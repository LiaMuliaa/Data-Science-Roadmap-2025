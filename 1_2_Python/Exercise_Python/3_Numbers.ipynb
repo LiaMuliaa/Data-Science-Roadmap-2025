{
 "cells": [
  {
   "cell_type": "code",
   "execution_count": 2,
   "metadata": {},
   "outputs": [
    {
     "name": "stdout",
     "output_type": "stream",
     "text": [
      "Total Area:  4489.599999999999\n",
      "4489.6\n"
     ]
    }
   ],
   "source": [
    "long=92\n",
    "wide=48.8\n",
    "\n",
    "total_area = long*wide\n",
    "\n",
    "print(\"Total Area: \", total_area)\n",
    "\n",
    "# OR Use Round\n",
    "print(round(total_area,2))"
   ]
  },
  {
   "cell_type": "code",
   "execution_count": null,
   "metadata": {},
   "outputs": [],
   "source": [
    "bought=9\n",
    "each_packet=1.49\n"
   ]
  }
 ],
 "metadata": {
  "kernelspec": {
   "display_name": "Python 3",
   "language": "python",
   "name": "python3"
  },
  "language_info": {
   "codemirror_mode": {
    "name": "ipython",
    "version": 3
   },
   "file_extension": ".py",
   "mimetype": "text/x-python",
   "name": "python",
   "nbconvert_exporter": "python",
   "pygments_lexer": "ipython3",
   "version": "3.12.1"
  }
 },
 "nbformat": 4,
 "nbformat_minor": 2
}
